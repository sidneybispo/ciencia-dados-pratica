{
 "cells": [
  {
   "cell_type": "markdown",
   "id": "61310b25",
   "metadata": {},
   "source": [
    "# Pandas Profiling\n",
    "#### https://pypi.org/project/pandas-profiling/\n"
   ]
  },
  {
   "cell_type": "code",
   "execution_count": 31,
   "id": "b22fc3d0",
   "metadata": {},
   "outputs": [],
   "source": [
    "# Importando o pandas e o pandas profiling\n",
    "import pandas as pd\n",
    "from pandas_profiling import ProfileReport"
   ]
  },
  {
   "cell_type": "code",
   "execution_count": 32,
   "id": "fd40b5fd",
   "metadata": {},
   "outputs": [],
   "source": [
    "# Importando a base de dados\n",
    "base = pd.read_csv('titanic_train.csv')"
   ]
  },
  {
   "cell_type": "code",
   "execution_count": null,
   "id": "568d2fcc",
   "metadata": {},
   "outputs": [],
   "source": []
  }
 ],
 "metadata": {
  "kernelspec": {
   "display_name": "Python 3 (ipykernel)",
   "language": "python",
   "name": "python3"
  },
  "language_info": {
   "codemirror_mode": {
    "name": "ipython",
    "version": 3
   },
   "file_extension": ".py",
   "mimetype": "text/x-python",
   "name": "python",
   "nbconvert_exporter": "python",
   "pygments_lexer": "ipython3",
   "version": "3.9.12"
  }
 },
 "nbformat": 4,
 "nbformat_minor": 5
}
