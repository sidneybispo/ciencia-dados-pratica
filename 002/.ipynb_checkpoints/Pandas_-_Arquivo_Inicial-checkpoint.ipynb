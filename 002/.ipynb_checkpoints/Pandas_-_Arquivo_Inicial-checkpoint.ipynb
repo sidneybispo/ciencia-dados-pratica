{
 "cells": [
  {
   "cell_type": "markdown",
   "id": "a4035819",
   "metadata": {},
   "source": [
    "# Pandas\n",
    "\n",
    "- Alta performance e fácil uso para trabalhar com dados\n",
    "- Tem muitas coisas que lembram o Excel\n",
    "- O DataFrame é usado em várias outras bibliotecas de Ciência de Dados\n",
    "- https://pandas.pydata.org/\n",
    "<br><br>\n",
    "- O Pandas vai <font color=\"blue\">**desde a importação da base, passando por toda a análise exploratória até a exibição de gráficos** </font>"
   ]
  },
  {
   "cell_type": "code",
   "execution_count": 22,
   "id": "6e545e0d",
   "metadata": {},
   "outputs": [],
   "source": [
    "# Importando o pandas"
   ]
  },
  {
   "cell_type": "markdown",
   "id": "8d1be0d0",
   "metadata": {},
   "source": [
    "### Conseguimos importar praticamente todas as bases de dados usando o pandas"
   ]
  },
  {
   "cell_type": "markdown",
   "id": "236cc4cc",
   "metadata": {},
   "source": [
    "**Importar uma base em csv:** <br>\n",
    "<font color=\"blue\">**pd.read_csv(**</font>\"arquivo_excel.xlsx\"<font color=\"blue\">**)**</font>\n",
    "- O arquivo que vamos usar é o `titanic_train.csv`"
   ]
  },
  {
   "cell_type": "code",
   "execution_count": 23,
   "id": "929d6c25",
   "metadata": {},
   "outputs": [],
   "source": [
    "# Importando a base em csv"
   ]
  },
  {
   "cell_type": "markdown",
   "id": "ee64259e",
   "metadata": {},
   "source": [
    "### E também visualizar todas as informações sobre essa base"
   ]
  },
  {
   "cell_type": "code",
   "execution_count": 25,
   "id": "dc051d61",
   "metadata": {},
   "outputs": [],
   "source": [
    "# Visualizando as 5 primeiras linhas"
   ]
  },
  {
   "cell_type": "code",
   "execution_count": 26,
   "id": "ac83c03d",
   "metadata": {},
   "outputs": [],
   "source": [
    "# Visualizando as 5 últimas linhas"
   ]
  },
  {
   "cell_type": "code",
   "execution_count": 27,
   "id": "f6296344",
   "metadata": {},
   "outputs": [],
   "source": [
    "# Tamanho da base"
   ]
  },
  {
   "cell_type": "code",
   "execution_count": 28,
   "id": "b11d2715",
   "metadata": {},
   "outputs": [],
   "source": [
    "# Visualizando primeiras e últimas linhas e tamanho da base"
   ]
  },
  {
   "cell_type": "markdown",
   "id": "7a198b5a",
   "metadata": {},
   "source": [
    "### Além disso, também podemos ver as informações da base"
   ]
  },
  {
   "cell_type": "code",
   "execution_count": 29,
   "id": "70a31a6d",
   "metadata": {},
   "outputs": [],
   "source": [
    "# Mostrando somente o tipo dos dados"
   ]
  },
  {
   "cell_type": "code",
   "execution_count": 30,
   "id": "2402bf4d",
   "metadata": {},
   "outputs": [],
   "source": [
    "# Mostrando o tipo de dados e os valores vazios"
   ]
  },
  {
   "cell_type": "code",
   "execution_count": 31,
   "id": "e2a07829",
   "metadata": {},
   "outputs": [],
   "source": [
    "# Contando os valores vazios por coluna"
   ]
  },
  {
   "cell_type": "markdown",
   "id": "4151b477",
   "metadata": {},
   "source": [
    "### Principais conceitos estatísticos"
   ]
  },
  {
   "cell_type": "code",
   "execution_count": null,
   "id": "07a71e0c",
   "metadata": {},
   "outputs": [],
   "source": [
    "dados = {\n",
    "    'X': [1,2,3] #,4,5,6,7,8,9,10,11]\n",
    "}\n",
    "\n",
    "dados = pd.DataFrame(dados)"
   ]
  },
  {
   "cell_type": "code",
   "execution_count": 32,
   "id": "f3adc7a8",
   "metadata": {},
   "outputs": [],
   "source": [
    "# Mostrando a média"
   ]
  },
  {
   "cell_type": "code",
   "execution_count": 33,
   "id": "a4442108",
   "metadata": {},
   "outputs": [],
   "source": [
    "# Mostrando a contagem de registros"
   ]
  },
  {
   "cell_type": "code",
   "execution_count": 34,
   "id": "c9401e6a",
   "metadata": {},
   "outputs": [],
   "source": [
    "# Mediana"
   ]
  },
  {
   "cell_type": "code",
   "execution_count": 35,
   "id": "242948ff",
   "metadata": {},
   "outputs": [],
   "source": [
    "# Desvio Padrão"
   ]
  },
  {
   "cell_type": "code",
   "execution_count": 36,
   "id": "5159fb93",
   "metadata": {},
   "outputs": [],
   "source": [
    "# Trazendo todo o resumo estatístico utilizando o describe"
   ]
  },
  {
   "cell_type": "markdown",
   "id": "378c6850",
   "metadata": {},
   "source": [
    "**Voltando para a base do nosso problema**"
   ]
  },
  {
   "cell_type": "code",
   "execution_count": null,
   "id": "e799b620",
   "metadata": {},
   "outputs": [],
   "source": [
    "# Trazendo o resumo estatístico para a nossa base"
   ]
  },
  {
   "cell_type": "markdown",
   "id": "18e85024",
   "metadata": {},
   "source": [
    "### Escolhendo colunas da base"
   ]
  },
  {
   "cell_type": "markdown",
   "id": "8f2ee861",
   "metadata": {},
   "source": [
    "**Buscando por uma coluna:** <br>"
   ]
  },
  {
   "cell_type": "code",
   "execution_count": 37,
   "id": "e54d2cca",
   "metadata": {},
   "outputs": [],
   "source": [
    "# Podemos usar o nome da coluna entre aspas"
   ]
  },
  {
   "cell_type": "code",
   "execution_count": 38,
   "id": "6bd204fe",
   "metadata": {},
   "outputs": [],
   "source": [
    "# Ou usar o ponto"
   ]
  },
  {
   "cell_type": "code",
   "execution_count": 39,
   "id": "77bec463",
   "metadata": {},
   "outputs": [],
   "source": [
    "# Usando uma coluna, podemos contar a quantidade de vezes que cada valor aparece"
   ]
  },
  {
   "cell_type": "code",
   "execution_count": 40,
   "id": "66ffdb6d",
   "metadata": {},
   "outputs": [],
   "source": [
    "# Selecionando um conjunto de colunas"
   ]
  },
  {
   "cell_type": "markdown",
   "id": "27e37a21",
   "metadata": {},
   "source": [
    "### Também conseguimos fazer filtros na base"
   ]
  },
  {
   "cell_type": "code",
   "execution_count": null,
   "id": "f55a03f3",
   "metadata": {},
   "outputs": [],
   "source": [
    "# Visualizando novamente na base"
   ]
  },
  {
   "cell_type": "code",
   "execution_count": null,
   "id": "df674098",
   "metadata": {},
   "outputs": [],
   "source": [
    "# Verificando clientes que pagaram mais de 100 libras "
   ]
  },
  {
   "cell_type": "code",
   "execution_count": null,
   "id": "5c82e233",
   "metadata": {},
   "outputs": [],
   "source": [
    "# Verificando se tiveram clientes que pagaram menos de 5 euros"
   ]
  },
  {
   "cell_type": "markdown",
   "id": "f112017d",
   "metadata": {},
   "source": [
    "**Podemos fazer filtros usando E / OU**"
   ]
  },
  {
   "cell_type": "code",
   "execution_count": null,
   "id": "c8c8a570",
   "metadata": {},
   "outputs": [],
   "source": [
    "# Verificando se alguém viajou com esposa E filhos "
   ]
  },
  {
   "cell_type": "markdown",
   "id": "c8ec0688",
   "metadata": {},
   "source": [
    "#### Uma forma muito útil de fazer seleção de dados é usando o <font color=\"blue\">.loc()</font> ou o <font color=\"blue\">.iloc()</font>"
   ]
  },
  {
   "cell_type": "code",
   "execution_count": null,
   "id": "715be073",
   "metadata": {},
   "outputs": [],
   "source": [
    "# O .loc() permite fazer a busca da mesma forma acima"
   ]
  },
  {
   "cell_type": "code",
   "execution_count": null,
   "id": "877ac823",
   "metadata": {},
   "outputs": [],
   "source": [
    "# Ele também permite usar argumentos lógicos"
   ]
  },
  {
   "cell_type": "code",
   "execution_count": null,
   "id": "3a2248ee",
   "metadata": {},
   "outputs": [],
   "source": [
    "# Ele permite filtrar colunas de forma muito prática"
   ]
  },
  {
   "cell_type": "markdown",
   "id": "69652b7f",
   "metadata": {},
   "source": [
    "**Já o <font color=\"blue\">.iloc() </font> vai usar o índice para filtrar**"
   ]
  },
  {
   "cell_type": "code",
   "execution_count": null,
   "id": "5b8b93ff",
   "metadata": {},
   "outputs": [],
   "source": [
    "# Buscando as linhas de 30 (inclusive) a 40 (exclusive)"
   ]
  },
  {
   "cell_type": "code",
   "execution_count": null,
   "id": "d9b0e913",
   "metadata": {},
   "outputs": [],
   "source": [
    "# Também posso usar para buscar apenas colunas específicas"
   ]
  },
  {
   "cell_type": "markdown",
   "id": "bff714ce",
   "metadata": {},
   "source": [
    "### Por fim, conseguimos fazer gráficos com o Pandas de forma bem simples\n",
    "\n",
    "- https://pandas.pydata.org/docs/user_guide/visualization.html"
   ]
  },
  {
   "cell_type": "code",
   "execution_count": null,
   "id": "d13735a9",
   "metadata": {},
   "outputs": [],
   "source": [
    "import matplotlib.pyplot as plt"
   ]
  },
  {
   "cell_type": "code",
   "execution_count": null,
   "id": "a84da073",
   "metadata": {},
   "outputs": [],
   "source": [
    "# É possível fazer um histograma simples"
   ]
  },
  {
   "cell_type": "code",
   "execution_count": null,
   "id": "aa1cdd62",
   "metadata": {},
   "outputs": [],
   "source": [
    "# Gráficos de barras"
   ]
  },
  {
   "cell_type": "code",
   "execution_count": null,
   "id": "ee23bcf9",
   "metadata": {},
   "outputs": [],
   "source": [
    "# E até gráficos mais complexos como o de densidade"
   ]
  }
 ],
 "metadata": {
  "kernelspec": {
   "display_name": "Python 3 (ipykernel)",
   "language": "python",
   "name": "python3"
  },
  "language_info": {
   "codemirror_mode": {
    "name": "ipython",
    "version": 3
   },
   "file_extension": ".py",
   "mimetype": "text/x-python",
   "name": "python",
   "nbconvert_exporter": "python",
   "pygments_lexer": "ipython3",
   "version": "3.9.12"
  }
 },
 "nbformat": 4,
 "nbformat_minor": 5
}
